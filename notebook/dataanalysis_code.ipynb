{
 "cells": [
  {
   "cell_type": "markdown",
   "metadata": {},
   "source": [
    "## <font color='blue'>Chalenge Scraping</font>"
   ]
  },
  {
   "cell_type": "markdown",
   "metadata": {},
   "source": [
    "****** This notebook use the version Python 3.7 ******"
   ]
  },
  {
   "cell_type": "markdown",
   "metadata": {},
   "source": [
    "*** \n",
    "2.1 - Write a small script in your programming language of choice that will extract and print the\n",
    "<b> * operating income, * revenue, * net income, * total assets, and * total equity </b> of Tesla to the\n",
    "terminal. Please provide the final amounts in danish kroner (DKK), assuming the\n",
    "conversion rate is <b>US 100.00</b> = <b>647.20 DKK</b>. The information on Wikipedia is considered\n",
    "up to date.\n",
    "***"
   ]
  },
  {
   "cell_type": "code",
   "execution_count": 7,
   "metadata": {},
   "outputs": [],
   "source": [
    "import requests\n",
    "from urllib.error import HTTPError\n",
    "from bs4 import BeautifulSoup\n",
    "import re\n",
    "from IPython.display import display, Image"
   ]
  },
  {
   "cell_type": "code",
   "execution_count": 27,
   "metadata": {},
   "outputs": [],
   "source": [
    "# DEFINE THE TARGET DESIRED \n",
    "target = \"https://en.wikipedia.org/wiki/Tesla,_Inc.\""
   ]
  },
  {
   "cell_type": "code",
   "execution_count": 28,
   "metadata": {},
   "outputs": [],
   "source": [
    "# RESPONSIBLE TO LOAD THE HTML PAGE\n",
    "\n",
    "def loadPage(url):\n",
    "    \"\"\"\n",
    "    Summary or Description of the Function\n",
    "    Parameters:\n",
    "    url (string): Url where are available the page desired\n",
    "\n",
    "    Returns:\n",
    "    object: BeautifulSoup\n",
    "   \"\"\"\n",
    "    try:\n",
    "        req = requests.get(url)\n",
    "    except requests.exceptions.RequestException as e:\n",
    "        print(e)\n",
    "        return None\n",
    "    return BeautifulSoup(req.text, 'html.parser')"
   ]
  },
  {
   "cell_type": "code",
   "execution_count": 29,
   "metadata": {},
   "outputs": [],
   "source": [
    "data_tesla = loadPage(target)\n",
    "if data_tesla is not None:\n",
    "    # TAG WHERE ALL DATA ARE AVAILABLE\n",
    "    details = data_tesla.findAll(\"table\",{\"class\",\"infobox vcard\"})"
   ]
  },
  {
   "cell_type": "code",
   "execution_count": 30,
   "metadata": {},
   "outputs": [],
   "source": [
    "# ITEMS DESIRED\n",
    "desired = [\"operating income\", \"revenue\", \"net income\", \"total assets\", \"total equity\"]"
   ]
  },
  {
   "cell_type": "code",
   "execution_count": 141,
   "metadata": {},
   "outputs": [],
   "source": [
    "# CONVERT US$21.461 > 138.896 DKK\n",
    "\n",
    "def convertDolarToDanish(line):\n",
    "    \"\"\"\n",
    "    Summary or Description of the Function\n",
    "    Parameters:\n",
    "    line (string): Line where currency need to be converted and replaced\n",
    "\n",
    "    Returns:\n",
    "    string: String with currency converted dolar to danish kroner\n",
    "   \"\"\"\n",
    "    # Regex used to take currency string i.e: US$21.461\n",
    "    regex = re.compile(r\"[a-z]+[\\$][\\− \\-]?[0-9]+.?[0-9]+\", re.IGNORECASE)\n",
    "    value = regex.findall(line, re.IGNORECASE)\n",
    "    \n",
    "    # Cleanning data: Diffenrences between - signal were identified\n",
    "    value = str(value[0]).replace(\"−\",\"-\")\n",
    "    \n",
    "    # Taking only the currency value and then converting\n",
    "    value_dolar = re.compile(\"[a-z]+[\\$]\", re.IGNORECASE).split(value)\n",
    "    value_kroner = \"{:.3f} {}\".format((float(value_dolar[1]) * 6.472),  \"DKK\")\n",
    "     \n",
    "    return regex.sub(value_kroner, line)"
   ]
  },
  {
   "cell_type": "code",
   "execution_count": 140,
   "metadata": {},
   "outputs": [
    {
     "name": "stdout",
     "output_type": "stream",
     "text": [
      "ORIGINAL: Revenue US$21.461 billion (2018)\n",
      "CONVERTED: Revenue 138.896 DKK billion (2018)\n",
      "ORIGINAL: Operating income US$-0.388 billion (2018)\n",
      "CONVERTED: Operating income -2.511 DKK billion (2018)\n",
      "ORIGINAL: Net income US$−0.976 billion (2018)\n",
      "CONVERTED: Net income -6.317 DKK billion (2018)\n",
      "ORIGINAL: Total assets US$29.740 billion (2018)\n",
      "CONVERTED: Total assets 192.477 DKK billion (2018)\n",
      "ORIGINAL: Total equity US$4.923 billion (2018)\n",
      "CONVERTED: Total equity 31.862 DKK billion (2018)\n"
     ]
    }
   ],
   "source": [
    "for sibling in data_tesla.find('table', {\"class\",\"infobox vcard\"}).tr.next_siblings:\n",
    "    \n",
    "    # Verify if item is desired (check a list for it)\n",
    "    if str(sibling.get_text()).lower().startswith(tuple(desired)):\n",
    "        print(\"ORIGINAL: {}\".format(str(sibling.get_text())))\n",
    "        print(\"CONVERTED: {}\".format(convertDolarToDanish(str(sibling.get_text()))))        "
   ]
  },
  {
   "cell_type": "markdown",
   "metadata": {},
   "source": [
    "*** \n",
    "2.2 - Please provide a brief description on how we could adapt the program, such that given a\n",
    "keyword, the program would extract any relevant information from the table with class\n",
    "“infobox vcard\" of a Wikipedia page if available. For example given the keyword “CEO”\n",
    "and the url to the Tesla Wikipedia page, this program would return “Elon Musk”. You\n",
    "may provide (pseudo) code, but this is optional. Please try to be as unambiguous as\n",
    "possible.\n",
    "***"
   ]
  },
  {
   "cell_type": "code",
   "execution_count": 195,
   "metadata": {},
   "outputs": [
    {
     "name": "stdout",
     "output_type": "stream",
     "text": [
      "['td', 'img', 'a', 'div']\n",
      "['td', 'th', 'div']\n",
      "['td', 'th', 'a', 'div']\n",
      "['div', 'td', 'a', 'ul', 'th', 'li']\n",
      "['td', 'span', 'th', 'a']\n",
      "['div', 'td', 'a', 'ul', 'th', 'li']\n",
      "['td', 'sup', 'span', 'a', 'th']\n",
      "['div', 'td', 'sup', 'a', 'ul', 'th', 'li']\n",
      "['td', 'th', 'a', 'div']\n",
      "['td', 'th', 'div']\n",
      "['div', 'td', 'a', 'ul', 'th', 'li']\n",
      "['div', 'td', 'a', 'ul', 'th', 'li']\n",
      "['td', 'th', 'img', 'div']\n",
      "['td', 'span', 'a', 'th', 'img']\n",
      "['div', 'td', 'span', 'a', 'th', 'img']\n",
      "['div', 'td', 'span', 'a', 'th', 'img']\n",
      "['td', 'span', 'a', 'th', 'img']\n",
      "['td', 'span', 'a', 'th', 'img']\n",
      "['td', 'sup', 'th', 'a']\n",
      "['div', 'td', 'sup', 'a', 'th']\n",
      "['div', 'td', 'a', 'ul', 'th', 'li']\n",
      "['td', 'span', 'th', 'a']\n",
      "['td', 'sup', 'a', 'br', 'b']\n"
     ]
    }
   ],
   "source": [
    "for sibling in data_tesla.find('table', {\"class\",\"infobox vcard\"}).tr.next_siblings:\n",
    "    lista = []\n",
    "    \n",
    "    for tags in sibling.find_all():\n",
    "#         print(tags.name)\n",
    "        lista.append(tags.name)\n",
    "    \n",
    "    s = set(lista)\n",
    "    \n",
    "    print(list(set(lista)))\n",
    "    \n",
    "    \n",
    "    \n",
    "    \n",
    "    \n",
    "    \n",
    "#     if sibling.th or sibling.td in sibling:\n",
    "#         style = sibling.tag.get_text()\n",
    "#         print(style)\n",
    "        \n",
    "#         style = sibling.parent.findall('th', {\"style\",\"padding-right:0.5em\"})\n",
    "        \n",
    "#         print('Title is: {}'.format(sibling.th.text))\n",
    "        \n",
    "        \n",
    "#         if style is not None and style['w:val'] == 'Title':\n",
    "#             print('Title is: {}'.format(sibling.th.text))\n",
    "#         else:\n",
    "#             print(textElem.text)\n",
    "        \n",
    "#         if style is not None and style['w:val'] == 'Title':\n",
    "#         print('Title is: {}'.format(textElem.text))\n",
    "#     else:\n",
    "#         print(textElem.text)\n",
    "    \n",
    "#     # Verify if item is desired (check a list for it)\n",
    "#     if str(sibling.findall('th', {\"style\",\"padding-right:0.5em\"})):\n",
    "#         print(sibling.get_text())   "
   ]
  },
  {
   "cell_type": "code",
   "execution_count": 171,
   "metadata": {},
   "outputs": [
    {
     "ename": "IndentationError",
     "evalue": "expected an indented block (<ipython-input-171-50f415697c9a>, line 3)",
     "output_type": "error",
     "traceback": [
      "\u001b[0;36m  File \u001b[0;32m\"<ipython-input-171-50f415697c9a>\"\u001b[0;36m, line \u001b[0;32m3\u001b[0m\n\u001b[0;31m    style = textElem.parent.parent.find('w:pStyle')\u001b[0m\n\u001b[0m        ^\u001b[0m\n\u001b[0;31mIndentationError\u001b[0m\u001b[0;31m:\u001b[0m expected an indented block\n"
     ]
    }
   ],
   "source": [
    "textStrings = wordObj.find_all('w:t')\n",
    "for textElem in textStrings:\n",
    "style = textElem.parent.parent.find('w:pStyle')\n",
    "if style is not None and style['w:val'] == 'Title':\n",
    "print('Title is: {}'.format(textElem.text))\n",
    "else:\n",
    "print(textElem.text)"
   ]
  },
  {
   "cell_type": "code",
   "execution_count": null,
   "metadata": {},
   "outputs": [],
   "source": []
  }
 ],
 "metadata": {
  "kernelspec": {
   "display_name": "Python 3",
   "language": "python",
   "name": "python3"
  },
  "language_info": {
   "codemirror_mode": {
    "name": "ipython",
    "version": 3
   },
   "file_extension": ".py",
   "mimetype": "text/x-python",
   "name": "python",
   "nbconvert_exporter": "python",
   "pygments_lexer": "ipython3",
   "version": "3.7.3"
  }
 },
 "nbformat": 4,
 "nbformat_minor": 2
}
